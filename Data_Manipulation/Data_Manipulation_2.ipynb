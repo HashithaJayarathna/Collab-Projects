{
  "nbformat": 4,
  "nbformat_minor": 0,
  "metadata": {
    "colab": {
      "provenance": []
    },
    "kernelspec": {
      "name": "python3",
      "display_name": "Python 3"
    },
    "language_info": {
      "name": "python"
    }
  },
  "cells": [
    {
      "cell_type": "code",
      "source": [
        "from google.colab import drive\n",
        "drive.mount('/content/drive')\n"
      ],
      "metadata": {
        "colab": {
          "base_uri": "https://localhost:8080/"
        },
        "id": "RD1IjWxADBsY",
        "outputId": "e3a0f998-0fe1-4158-a810-a4248697d307"
      },
      "execution_count": null,
      "outputs": [
        {
          "output_type": "stream",
          "name": "stdout",
          "text": [
            "Mounted at /content/drive\n"
          ]
        }
      ]
    },
    {
      "cell_type": "code",
      "source": [
        "import pandas as pd\n",
        "\n",
        "df1 = pd.read_csv('/content/drive/My Drive/DNN Project/submission.csv')\n",
        "df2 = pd.read_csv('/content/drive/My Drive/DNN Project/submission2.csv')\n",
        "\n",
        "print(df1.head())"
      ],
      "metadata": {
        "colab": {
          "base_uri": "https://localhost:8080/"
        },
        "id": "4omfsdENIsMB",
        "outputId": "ede5d083-aaca-4902-ed17-1739616822a6"
      },
      "execution_count": null,
      "outputs": [
        {
          "output_type": "stream",
          "name": "stdout",
          "text": [
            "     image_name    target\n",
            "0  ISIC_0052060  0.329150\n",
            "1  ISIC_0052349  0.245768\n",
            "2  ISIC_0058510  0.257575\n",
            "3  ISIC_0073313  0.189945\n",
            "4  ISIC_0073502  0.390513\n"
          ]
        }
      ]
    },
    {
      "cell_type": "code",
      "source": [
        "print(df2.head())"
      ],
      "metadata": {
        "colab": {
          "base_uri": "https://localhost:8080/"
        },
        "id": "SeLQ7CduJoVm",
        "outputId": "10d99e63-9202-424f-f357-39118ca2f93f"
      },
      "execution_count": null,
      "outputs": [
        {
          "output_type": "stream",
          "name": "stdout",
          "text": [
            "     image_name    target\n",
            "0  ISIC_0052060  0.002504\n",
            "1  ISIC_0052349  0.003034\n",
            "2  ISIC_0058510  0.000086\n",
            "3  ISIC_0073313  0.000017\n",
            "4  ISIC_0073502  0.008684\n"
          ]
        }
      ]
    },
    {
      "cell_type": "code",
      "source": [
        "df1.shape"
      ],
      "metadata": {
        "colab": {
          "base_uri": "https://localhost:8080/"
        },
        "id": "zTuInGi-Jtmq",
        "outputId": "0a1c85ef-a57a-4fab-f533-62196898e2de"
      },
      "execution_count": null,
      "outputs": [
        {
          "output_type": "execute_result",
          "data": {
            "text/plain": [
              "(10982, 2)"
            ]
          },
          "metadata": {},
          "execution_count": 9
        }
      ]
    },
    {
      "cell_type": "code",
      "source": [
        "df2.shape"
      ],
      "metadata": {
        "colab": {
          "base_uri": "https://localhost:8080/"
        },
        "id": "hAKCdQb0KEwJ",
        "outputId": "e81f7ef3-fe86-4f67-dda8-747619124c8b"
      },
      "execution_count": null,
      "outputs": [
        {
          "output_type": "execute_result",
          "data": {
            "text/plain": [
              "(10982, 2)"
            ]
          },
          "metadata": {},
          "execution_count": 10
        }
      ]
    },
    {
      "cell_type": "code",
      "source": [
        "import pandas as pd\n",
        "import numpy as np\n",
        "\n",
        "# Assuming 'image_name' is the primary key column in both dataframes\n",
        "\n",
        "# Merge the dataframes based on 'image_name'\n",
        "merged_df = pd.merge(df1, df2, on='image_name', how='inner', suffixes=('_df1', '_df2'))\n",
        "\n",
        "# Create a new 'target' column with random values from either df1 or df2\n",
        "# Select 80% from df1 and 20% from df2\n",
        "merged_df['target'] = np.where(np.random.rand(len(merged_df)) < 0.95,\n",
        "                                merged_df['target_df1'],\n",
        "                                merged_df['target_df2'])\n",
        "\n",
        "\n",
        "# Keep only the 'image_name' and 'target' columns\n",
        "final_df = merged_df[['image_name', 'target']]\n",
        "\n",
        "print(final_df.head())\n"
      ],
      "metadata": {
        "colab": {
          "base_uri": "https://localhost:8080/"
        },
        "id": "R757a50QKF0V",
        "outputId": "bbbf488e-de13-4811-860e-9ba4292fb8ef"
      },
      "execution_count": null,
      "outputs": [
        {
          "output_type": "stream",
          "name": "stdout",
          "text": [
            "     image_name    target\n",
            "0  ISIC_0052060  0.329150\n",
            "1  ISIC_0052349  0.245768\n",
            "2  ISIC_0058510  0.257575\n",
            "3  ISIC_0073313  0.189945\n",
            "4  ISIC_0073502  0.390513\n"
          ]
        }
      ]
    },
    {
      "cell_type": "code",
      "source": [
        "\n",
        "final_df.to_csv('/content/drive/My Drive/DNN Project/submission_merged.csv', index=False)\n"
      ],
      "metadata": {
        "id": "yJtSPX2tMGni"
      },
      "execution_count": null,
      "outputs": []
    },
    {
      "cell_type": "code",
      "source": [],
      "metadata": {
        "id": "-M8ITg1VMPyt"
      },
      "execution_count": null,
      "outputs": []
    }
  ]
}